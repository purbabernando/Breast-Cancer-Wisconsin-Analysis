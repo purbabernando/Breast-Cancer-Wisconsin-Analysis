{
 "cells": [
  {
   "cell_type": "markdown",
   "metadata": {},
   "source": [
    "Breast cancer Wisconsin dataset has 11 variables with 699 observations. The first variable is the identifier, hence this variable will not be included for the data analysis, which means there are 9 predictors and 1 response variable. The response variable is denoted 2 for benign and 4 for malignant.\n",
    "Predictors : Clump Thickness, Uniformity of Cell Size, Uniformity of Cell Shape, Marginal Adhesion, Single Epithelial Cell Size, Bare Nuclei, Bland Chromatin, Normal Nuclei, Mitoses\n",
    "Response   : Class\n"
   ]
  },
  {
   "cell_type": "code",
   "execution_count": 1,
   "metadata": {},
   "outputs": [],
   "source": [
    "# Extract the data\n",
    "bcw <- read.table(\"./Data/breast-cancer-wisconsin.data.txt\", sep = \",\")"
   ]
  },
  {
   "cell_type": "code",
   "execution_count": 2,
   "metadata": {},
   "outputs": [
    {
     "data": {
      "text/html": [
       "<ol class=list-inline>\n",
       "\t<li>699</li>\n",
       "\t<li>11</li>\n",
       "</ol>\n"
      ],
      "text/latex": [
       "\\begin{enumerate*}\n",
       "\\item 699\n",
       "\\item 11\n",
       "\\end{enumerate*}\n"
      ],
      "text/markdown": [
       "1. 699\n",
       "2. 11\n",
       "\n",
       "\n"
      ],
      "text/plain": [
       "[1] 699  11"
      ]
     },
     "metadata": {},
     "output_type": "display_data"
    }
   ],
   "source": [
    "#checking the dimension\n",
    "dim(bcw)"
   ]
  },
  {
   "cell_type": "code",
   "execution_count": 4,
   "metadata": {},
   "outputs": [],
   "source": [
    "# Rename features\n",
    "names(bcw) <- c(\"Sample.Code.Number\",\"Clump.Thickness\",\"Uniformity.of.Cell.Size\",\"Uniformity.of.Cell.Shape\",\n",
    "                 \"Marginal.Adhesion\",\"Single.Ephithelial.Cell.Size\",\"Bare.Nuclei\",\"Bland.Chromatin\",\n",
    "                 \"Normal.Nucleoli\",\"Mitoses\",\"Class\")"
   ]
  },
  {
   "cell_type": "code",
   "execution_count": 5,
   "metadata": {},
   "outputs": [
    {
     "data": {
      "text/html": [
       "<dl class=dl-horizontal>\n",
       "\t<dt>Sample.Code.Number</dt>\n",
       "\t\t<dd>0</dd>\n",
       "\t<dt>Clump.Thickness</dt>\n",
       "\t\t<dd>0</dd>\n",
       "\t<dt>Uniformity.of.Cell.Size</dt>\n",
       "\t\t<dd>0</dd>\n",
       "\t<dt>Uniformity.of.Cell.Shape</dt>\n",
       "\t\t<dd>0</dd>\n",
       "\t<dt>Marginal.Adhesion</dt>\n",
       "\t\t<dd>0</dd>\n",
       "\t<dt>Single.Ephithelial.Cell.Size</dt>\n",
       "\t\t<dd>0</dd>\n",
       "\t<dt>Bare.Nuclei</dt>\n",
       "\t\t<dd>0</dd>\n",
       "\t<dt>Bland.Chromatin</dt>\n",
       "\t\t<dd>0</dd>\n",
       "\t<dt>Normal.Nucleoli</dt>\n",
       "\t\t<dd>0</dd>\n",
       "\t<dt>Mitoses</dt>\n",
       "\t\t<dd>0</dd>\n",
       "\t<dt>Class</dt>\n",
       "\t\t<dd>0</dd>\n",
       "</dl>\n"
      ],
      "text/latex": [
       "\\begin{description*}\n",
       "\\item[Sample.Code.Number] 0\n",
       "\\item[Clump.Thickness] 0\n",
       "\\item[Uniformity.of.Cell.Size] 0\n",
       "\\item[Uniformity.of.Cell.Shape] 0\n",
       "\\item[Marginal.Adhesion] 0\n",
       "\\item[Single.Ephithelial.Cell.Size] 0\n",
       "\\item[Bare.Nuclei] 0\n",
       "\\item[Bland.Chromatin] 0\n",
       "\\item[Normal.Nucleoli] 0\n",
       "\\item[Mitoses] 0\n",
       "\\item[Class] 0\n",
       "\\end{description*}\n"
      ],
      "text/markdown": [
       "Sample.Code.Number\n",
       ":   0Clump.Thickness\n",
       ":   0Uniformity.of.Cell.Size\n",
       ":   0Uniformity.of.Cell.Shape\n",
       ":   0Marginal.Adhesion\n",
       ":   0Single.Ephithelial.Cell.Size\n",
       ":   0Bare.Nuclei\n",
       ":   0Bland.Chromatin\n",
       ":   0Normal.Nucleoli\n",
       ":   0Mitoses\n",
       ":   0Class\n",
       ":   0\n",
       "\n"
      ],
      "text/plain": [
       "          Sample.Code.Number              Clump.Thickness \n",
       "                           0                            0 \n",
       "     Uniformity.of.Cell.Size     Uniformity.of.Cell.Shape \n",
       "                           0                            0 \n",
       "           Marginal.Adhesion Single.Ephithelial.Cell.Size \n",
       "                           0                            0 \n",
       "                 Bare.Nuclei              Bland.Chromatin \n",
       "                           0                            0 \n",
       "             Normal.Nucleoli                      Mitoses \n",
       "                           0                            0 \n",
       "                       Class \n",
       "                           0 "
      ]
     },
     "metadata": {},
     "output_type": "display_data"
    }
   ],
   "source": [
    "# Checking missing values\n",
    "sapply(bcw, function(x) sum(is.na(x)))"
   ]
  },
  {
   "cell_type": "code",
   "execution_count": 6,
   "metadata": {},
   "outputs": [
    {
     "data": {
      "text/html": [
       "<dl>\n",
       "\t<dt>$Sample.Code.Number</dt>\n",
       "\t\t<dd>NULL</dd>\n",
       "\t<dt>$Clump.Thickness</dt>\n",
       "\t\t<dd>NULL</dd>\n",
       "\t<dt>$Uniformity.of.Cell.Size</dt>\n",
       "\t\t<dd>NULL</dd>\n",
       "\t<dt>$Uniformity.of.Cell.Shape</dt>\n",
       "\t\t<dd>NULL</dd>\n",
       "\t<dt>$Marginal.Adhesion</dt>\n",
       "\t\t<dd>NULL</dd>\n",
       "\t<dt>$Single.Ephithelial.Cell.Size</dt>\n",
       "\t\t<dd>NULL</dd>\n",
       "\t<dt>$Bare.Nuclei</dt>\n",
       "\t\t<dd><ol class=list-inline>\n",
       "\t<li>'?'</li>\n",
       "\t<li>'1'</li>\n",
       "\t<li>'10'</li>\n",
       "\t<li>'2'</li>\n",
       "\t<li>'3'</li>\n",
       "\t<li>'4'</li>\n",
       "\t<li>'5'</li>\n",
       "\t<li>'6'</li>\n",
       "\t<li>'7'</li>\n",
       "\t<li>'8'</li>\n",
       "\t<li>'9'</li>\n",
       "</ol>\n",
       "</dd>\n",
       "\t<dt>$Bland.Chromatin</dt>\n",
       "\t\t<dd>NULL</dd>\n",
       "\t<dt>$Normal.Nucleoli</dt>\n",
       "\t\t<dd>NULL</dd>\n",
       "\t<dt>$Mitoses</dt>\n",
       "\t\t<dd>NULL</dd>\n",
       "\t<dt>$Class</dt>\n",
       "\t\t<dd>NULL</dd>\n",
       "</dl>\n"
      ],
      "text/latex": [
       "\\begin{description}\n",
       "\\item[\\$Sample.Code.Number] NULL\n",
       "\\item[\\$Clump.Thickness] NULL\n",
       "\\item[\\$Uniformity.of.Cell.Size] NULL\n",
       "\\item[\\$Uniformity.of.Cell.Shape] NULL\n",
       "\\item[\\$Marginal.Adhesion] NULL\n",
       "\\item[\\$Single.Ephithelial.Cell.Size] NULL\n",
       "\\item[\\$Bare.Nuclei] \\begin{enumerate*}\n",
       "\\item '?'\n",
       "\\item '1'\n",
       "\\item '10'\n",
       "\\item '2'\n",
       "\\item '3'\n",
       "\\item '4'\n",
       "\\item '5'\n",
       "\\item '6'\n",
       "\\item '7'\n",
       "\\item '8'\n",
       "\\item '9'\n",
       "\\end{enumerate*}\n",
       "\n",
       "\\item[\\$Bland.Chromatin] NULL\n",
       "\\item[\\$Normal.Nucleoli] NULL\n",
       "\\item[\\$Mitoses] NULL\n",
       "\\item[\\$Class] NULL\n",
       "\\end{description}\n"
      ],
      "text/markdown": [
       "$Sample.Code.Number\n",
       ":   NULL\n",
       "$Clump.Thickness\n",
       ":   NULL\n",
       "$Uniformity.of.Cell.Size\n",
       ":   NULL\n",
       "$Uniformity.of.Cell.Shape\n",
       ":   NULL\n",
       "$Marginal.Adhesion\n",
       ":   NULL\n",
       "$Single.Ephithelial.Cell.Size\n",
       ":   NULL\n",
       "$Bare.Nuclei\n",
       ":   1. '?'\n",
       "2. '1'\n",
       "3. '10'\n",
       "4. '2'\n",
       "5. '3'\n",
       "6. '4'\n",
       "7. '5'\n",
       "8. '6'\n",
       "9. '7'\n",
       "10. '8'\n",
       "11. '9'\n",
       "\n",
       "\n",
       "\n",
       "$Bland.Chromatin\n",
       ":   NULL\n",
       "$Normal.Nucleoli\n",
       ":   NULL\n",
       "$Mitoses\n",
       ":   NULL\n",
       "$Class\n",
       ":   NULL\n",
       "\n",
       "\n"
      ],
      "text/plain": [
       "$Sample.Code.Number\n",
       "NULL\n",
       "\n",
       "$Clump.Thickness\n",
       "NULL\n",
       "\n",
       "$Uniformity.of.Cell.Size\n",
       "NULL\n",
       "\n",
       "$Uniformity.of.Cell.Shape\n",
       "NULL\n",
       "\n",
       "$Marginal.Adhesion\n",
       "NULL\n",
       "\n",
       "$Single.Ephithelial.Cell.Size\n",
       "NULL\n",
       "\n",
       "$Bare.Nuclei\n",
       " [1] \"?\"  \"1\"  \"10\" \"2\"  \"3\"  \"4\"  \"5\"  \"6\"  \"7\"  \"8\"  \"9\" \n",
       "\n",
       "$Bland.Chromatin\n",
       "NULL\n",
       "\n",
       "$Normal.Nucleoli\n",
       "NULL\n",
       "\n",
       "$Mitoses\n",
       "NULL\n",
       "\n",
       "$Class\n",
       "NULL\n"
      ]
     },
     "metadata": {},
     "output_type": "display_data"
    }
   ],
   "source": [
    "# Checking whether null values are specified in different formats\n",
    "sapply(bcw, levels)"
   ]
  },
  {
   "cell_type": "code",
   "execution_count": 7,
   "metadata": {},
   "outputs": [
    {
     "data": {
      "text/html": [
       "<table>\n",
       "<thead><tr><th></th><th scope=col>Sample.Code.Number</th><th scope=col>Clump.Thickness</th><th scope=col>Uniformity.of.Cell.Size</th><th scope=col>Uniformity.of.Cell.Shape</th><th scope=col>Marginal.Adhesion</th><th scope=col>Single.Ephithelial.Cell.Size</th><th scope=col>Bare.Nuclei</th><th scope=col>Bland.Chromatin</th><th scope=col>Normal.Nucleoli</th><th scope=col>Mitoses</th><th scope=col>Class</th></tr></thead>\n",
       "<tbody>\n",
       "\t<tr><th scope=row>24</th><td>1057013</td><td>8      </td><td>4      </td><td>5      </td><td>1      </td><td>2      </td><td>?      </td><td>7      </td><td> 3     </td><td>1      </td><td>4      </td></tr>\n",
       "\t<tr><th scope=row>41</th><td>1096800</td><td>6      </td><td>6      </td><td>6      </td><td>9      </td><td>6      </td><td>?      </td><td>7      </td><td> 8     </td><td>1      </td><td>2      </td></tr>\n",
       "\t<tr><th scope=row>140</th><td>1183246</td><td>1      </td><td>1      </td><td>1      </td><td>1      </td><td>1      </td><td>?      </td><td>2      </td><td> 1     </td><td>1      </td><td>2      </td></tr>\n",
       "\t<tr><th scope=row>146</th><td>1184840</td><td>1      </td><td>1      </td><td>3      </td><td>1      </td><td>2      </td><td>?      </td><td>2      </td><td> 1     </td><td>1      </td><td>2      </td></tr>\n",
       "\t<tr><th scope=row>159</th><td>1193683</td><td>1      </td><td>1      </td><td>2      </td><td>1      </td><td>3      </td><td>?      </td><td>1      </td><td> 1     </td><td>1      </td><td>2      </td></tr>\n",
       "\t<tr><th scope=row>165</th><td>1197510</td><td>5      </td><td>1      </td><td>1      </td><td>1      </td><td>2      </td><td>?      </td><td>3      </td><td> 1     </td><td>1      </td><td>2      </td></tr>\n",
       "\t<tr><th scope=row>236</th><td>1241232</td><td>3      </td><td>1      </td><td>4      </td><td>1      </td><td>2      </td><td>?      </td><td>3      </td><td> 1     </td><td>1      </td><td>2      </td></tr>\n",
       "\t<tr><th scope=row>250</th><td> 169356</td><td>3      </td><td>1      </td><td>1      </td><td>1      </td><td>2      </td><td>?      </td><td>3      </td><td> 1     </td><td>1      </td><td>2      </td></tr>\n",
       "\t<tr><th scope=row>276</th><td> 432809</td><td>3      </td><td>1      </td><td>3      </td><td>1      </td><td>2      </td><td>?      </td><td>2      </td><td> 1     </td><td>1      </td><td>2      </td></tr>\n",
       "\t<tr><th scope=row>293</th><td> 563649</td><td>8      </td><td>8      </td><td>8      </td><td>1      </td><td>2      </td><td>?      </td><td>6      </td><td>10     </td><td>1      </td><td>4      </td></tr>\n",
       "\t<tr><th scope=row>295</th><td> 606140</td><td>1      </td><td>1      </td><td>1      </td><td>1      </td><td>2      </td><td>?      </td><td>2      </td><td> 1     </td><td>1      </td><td>2      </td></tr>\n",
       "\t<tr><th scope=row>298</th><td>  61634</td><td>5      </td><td>4      </td><td>3      </td><td>1      </td><td>2      </td><td>?      </td><td>2      </td><td> 3     </td><td>1      </td><td>2      </td></tr>\n",
       "\t<tr><th scope=row>316</th><td> 704168</td><td>4      </td><td>6      </td><td>5      </td><td>6      </td><td>7      </td><td>?      </td><td>4      </td><td> 9     </td><td>1      </td><td>2      </td></tr>\n",
       "\t<tr><th scope=row>322</th><td> 733639</td><td>3      </td><td>1      </td><td>1      </td><td>1      </td><td>2      </td><td>?      </td><td>3      </td><td> 1     </td><td>1      </td><td>2      </td></tr>\n",
       "\t<tr><th scope=row>412</th><td>1238464</td><td>1      </td><td>1      </td><td>1      </td><td>1      </td><td>1      </td><td>?      </td><td>2      </td><td> 1     </td><td>1      </td><td>2      </td></tr>\n",
       "\t<tr><th scope=row>618</th><td>1057067</td><td>1      </td><td>1      </td><td>1      </td><td>1      </td><td>1      </td><td>?      </td><td>1      </td><td> 1     </td><td>1      </td><td>2      </td></tr>\n",
       "</tbody>\n",
       "</table>\n"
      ],
      "text/latex": [
       "\\begin{tabular}{r|lllllllllll}\n",
       "  & Sample.Code.Number & Clump.Thickness & Uniformity.of.Cell.Size & Uniformity.of.Cell.Shape & Marginal.Adhesion & Single.Ephithelial.Cell.Size & Bare.Nuclei & Bland.Chromatin & Normal.Nucleoli & Mitoses & Class\\\\\n",
       "\\hline\n",
       "\t24 & 1057013 & 8       & 4       & 5       & 1       & 2       & ?       & 7       &  3      & 1       & 4      \\\\\n",
       "\t41 & 1096800 & 6       & 6       & 6       & 9       & 6       & ?       & 7       &  8      & 1       & 2      \\\\\n",
       "\t140 & 1183246 & 1       & 1       & 1       & 1       & 1       & ?       & 2       &  1      & 1       & 2      \\\\\n",
       "\t146 & 1184840 & 1       & 1       & 3       & 1       & 2       & ?       & 2       &  1      & 1       & 2      \\\\\n",
       "\t159 & 1193683 & 1       & 1       & 2       & 1       & 3       & ?       & 1       &  1      & 1       & 2      \\\\\n",
       "\t165 & 1197510 & 5       & 1       & 1       & 1       & 2       & ?       & 3       &  1      & 1       & 2      \\\\\n",
       "\t236 & 1241232 & 3       & 1       & 4       & 1       & 2       & ?       & 3       &  1      & 1       & 2      \\\\\n",
       "\t250 &  169356 & 3       & 1       & 1       & 1       & 2       & ?       & 3       &  1      & 1       & 2      \\\\\n",
       "\t276 &  432809 & 3       & 1       & 3       & 1       & 2       & ?       & 2       &  1      & 1       & 2      \\\\\n",
       "\t293 &  563649 & 8       & 8       & 8       & 1       & 2       & ?       & 6       & 10      & 1       & 4      \\\\\n",
       "\t295 &  606140 & 1       & 1       & 1       & 1       & 2       & ?       & 2       &  1      & 1       & 2      \\\\\n",
       "\t298 &   61634 & 5       & 4       & 3       & 1       & 2       & ?       & 2       &  3      & 1       & 2      \\\\\n",
       "\t316 &  704168 & 4       & 6       & 5       & 6       & 7       & ?       & 4       &  9      & 1       & 2      \\\\\n",
       "\t322 &  733639 & 3       & 1       & 1       & 1       & 2       & ?       & 3       &  1      & 1       & 2      \\\\\n",
       "\t412 & 1238464 & 1       & 1       & 1       & 1       & 1       & ?       & 2       &  1      & 1       & 2      \\\\\n",
       "\t618 & 1057067 & 1       & 1       & 1       & 1       & 1       & ?       & 1       &  1      & 1       & 2      \\\\\n",
       "\\end{tabular}\n"
      ],
      "text/markdown": [
       "\n",
       "| <!--/--> | Sample.Code.Number | Clump.Thickness | Uniformity.of.Cell.Size | Uniformity.of.Cell.Shape | Marginal.Adhesion | Single.Ephithelial.Cell.Size | Bare.Nuclei | Bland.Chromatin | Normal.Nucleoli | Mitoses | Class |\n",
       "|---|---|---|---|---|---|---|---|---|---|---|---|\n",
       "| 24 | 1057013 | 8       | 4       | 5       | 1       | 2       | ?       | 7       |  3      | 1       | 4       |\n",
       "| 41 | 1096800 | 6       | 6       | 6       | 9       | 6       | ?       | 7       |  8      | 1       | 2       |\n",
       "| 140 | 1183246 | 1       | 1       | 1       | 1       | 1       | ?       | 2       |  1      | 1       | 2       |\n",
       "| 146 | 1184840 | 1       | 1       | 3       | 1       | 2       | ?       | 2       |  1      | 1       | 2       |\n",
       "| 159 | 1193683 | 1       | 1       | 2       | 1       | 3       | ?       | 1       |  1      | 1       | 2       |\n",
       "| 165 | 1197510 | 5       | 1       | 1       | 1       | 2       | ?       | 3       |  1      | 1       | 2       |\n",
       "| 236 | 1241232 | 3       | 1       | 4       | 1       | 2       | ?       | 3       |  1      | 1       | 2       |\n",
       "| 250 |  169356 | 3       | 1       | 1       | 1       | 2       | ?       | 3       |  1      | 1       | 2       |\n",
       "| 276 |  432809 | 3       | 1       | 3       | 1       | 2       | ?       | 2       |  1      | 1       | 2       |\n",
       "| 293 |  563649 | 8       | 8       | 8       | 1       | 2       | ?       | 6       | 10      | 1       | 4       |\n",
       "| 295 |  606140 | 1       | 1       | 1       | 1       | 2       | ?       | 2       |  1      | 1       | 2       |\n",
       "| 298 |   61634 | 5       | 4       | 3       | 1       | 2       | ?       | 2       |  3      | 1       | 2       |\n",
       "| 316 |  704168 | 4       | 6       | 5       | 6       | 7       | ?       | 4       |  9      | 1       | 2       |\n",
       "| 322 |  733639 | 3       | 1       | 1       | 1       | 2       | ?       | 3       |  1      | 1       | 2       |\n",
       "| 412 | 1238464 | 1       | 1       | 1       | 1       | 1       | ?       | 2       |  1      | 1       | 2       |\n",
       "| 618 | 1057067 | 1       | 1       | 1       | 1       | 1       | ?       | 1       |  1      | 1       | 2       |\n",
       "\n"
      ],
      "text/plain": [
       "    Sample.Code.Number Clump.Thickness Uniformity.of.Cell.Size\n",
       "24  1057013            8               4                      \n",
       "41  1096800            6               6                      \n",
       "140 1183246            1               1                      \n",
       "146 1184840            1               1                      \n",
       "159 1193683            1               1                      \n",
       "165 1197510            5               1                      \n",
       "236 1241232            3               1                      \n",
       "250  169356            3               1                      \n",
       "276  432809            3               1                      \n",
       "293  563649            8               8                      \n",
       "295  606140            1               1                      \n",
       "298   61634            5               4                      \n",
       "316  704168            4               6                      \n",
       "322  733639            3               1                      \n",
       "412 1238464            1               1                      \n",
       "618 1057067            1               1                      \n",
       "    Uniformity.of.Cell.Shape Marginal.Adhesion Single.Ephithelial.Cell.Size\n",
       "24  5                        1                 2                           \n",
       "41  6                        9                 6                           \n",
       "140 1                        1                 1                           \n",
       "146 3                        1                 2                           \n",
       "159 2                        1                 3                           \n",
       "165 1                        1                 2                           \n",
       "236 4                        1                 2                           \n",
       "250 1                        1                 2                           \n",
       "276 3                        1                 2                           \n",
       "293 8                        1                 2                           \n",
       "295 1                        1                 2                           \n",
       "298 3                        1                 2                           \n",
       "316 5                        6                 7                           \n",
       "322 1                        1                 2                           \n",
       "412 1                        1                 1                           \n",
       "618 1                        1                 1                           \n",
       "    Bare.Nuclei Bland.Chromatin Normal.Nucleoli Mitoses Class\n",
       "24  ?           7                3              1       4    \n",
       "41  ?           7                8              1       2    \n",
       "140 ?           2                1              1       2    \n",
       "146 ?           2                1              1       2    \n",
       "159 ?           1                1              1       2    \n",
       "165 ?           3                1              1       2    \n",
       "236 ?           3                1              1       2    \n",
       "250 ?           3                1              1       2    \n",
       "276 ?           2                1              1       2    \n",
       "293 ?           6               10              1       4    \n",
       "295 ?           2                1              1       2    \n",
       "298 ?           2                3              1       2    \n",
       "316 ?           4                9              1       2    \n",
       "322 ?           3                1              1       2    \n",
       "412 ?           2                1              1       2    \n",
       "618 ?           1                1              1       2    "
      ]
     },
     "metadata": {},
     "output_type": "display_data"
    }
   ],
   "source": [
    "#Bare.nuclei has missing values in the format of '?'\n",
    "#Displaying all records with missing values in Bare.Nuclei\n",
    "bcw[is.element(bcw$Bare.Nuclei, '?'),]"
   ]
  },
  {
   "cell_type": "code",
   "execution_count": 8,
   "metadata": {},
   "outputs": [
    {
     "data": {
      "text/html": [
       "16"
      ],
      "text/latex": [
       "16"
      ],
      "text/markdown": [
       "16"
      ],
      "text/plain": [
       "[1] 16"
      ]
     },
     "metadata": {},
     "output_type": "display_data"
    }
   ],
   "source": [
    "# Number of records with missing values\n",
    "nrow(bcw[is.element(bcw$Bare.Nuclei, '?'),])"
   ]
  },
  {
   "cell_type": "code",
   "execution_count": 10,
   "metadata": {},
   "outputs": [],
   "source": [
    "#Removing all rows with missing values\n",
    "bcw <- bcw[!(bcw$Bare.Nuclei == '?'),]"
   ]
  },
  {
   "cell_type": "code",
   "execution_count": 11,
   "metadata": {},
   "outputs": [],
   "source": [
    "#Converting Bare Nuclei data type to integer\n",
    "bcw$Bare.Nuclei <- as.character(bcw$Bare.Nuclei)\n",
    "bcw$Bare.Nuclei <- as.integer(bcw$Bare.Nuclei)"
   ]
  },
  {
   "cell_type": "code",
   "execution_count": 12,
   "metadata": {},
   "outputs": [],
   "source": [
    "#Removing the first column\n",
    "bcw <- bcw[c(2:11)]"
   ]
  },
  {
   "cell_type": "code",
   "execution_count": 13,
   "metadata": {},
   "outputs": [
    {
     "data": {
      "text/html": [
       "'integer'"
      ],
      "text/latex": [
       "'integer'"
      ],
      "text/markdown": [
       "'integer'"
      ],
      "text/plain": [
       "[1] \"integer\""
      ]
     },
     "metadata": {},
     "output_type": "display_data"
    }
   ],
   "source": [
    "#Checking datatype of \"Class\"\n",
    "typeof(bcw$Class)"
   ]
  },
  {
   "cell_type": "code",
   "execution_count": 15,
   "metadata": {},
   "outputs": [],
   "source": [
    "#Changing datatype of \"Class\" to factor\n",
    "bcw$Class<-factor(bcw$Class)"
   ]
  },
  {
   "cell_type": "code",
   "execution_count": 16,
   "metadata": {},
   "outputs": [
    {
     "data": {
      "text/html": [
       "<ol class=list-inline>\n",
       "\t<li>'2'</li>\n",
       "\t<li>'4'</li>\n",
       "</ol>\n"
      ],
      "text/latex": [
       "\\begin{enumerate*}\n",
       "\\item '2'\n",
       "\\item '4'\n",
       "\\end{enumerate*}\n"
      ],
      "text/markdown": [
       "1. '2'\n",
       "2. '4'\n",
       "\n",
       "\n"
      ],
      "text/plain": [
       "[1] \"2\" \"4\""
      ]
     },
     "metadata": {},
     "output_type": "display_data"
    }
   ],
   "source": [
    "#Checking level of class\n",
    "levels(bcw$Class)"
   ]
  },
  {
   "cell_type": "code",
   "execution_count": 18,
   "metadata": {},
   "outputs": [
    {
     "data": {
      "text/html": [
       "444"
      ],
      "text/latex": [
       "444"
      ],
      "text/markdown": [
       "444"
      ],
      "text/plain": [
       "[1] 444"
      ]
     },
     "metadata": {},
     "output_type": "display_data"
    },
    {
     "data": {
      "text/html": [
       "239"
      ],
      "text/latex": [
       "239"
      ],
      "text/markdown": [
       "239"
      ],
      "text/plain": [
       "[1] 239"
      ]
     },
     "metadata": {},
     "output_type": "display_data"
    }
   ],
   "source": [
    "# Distribution of class 2 and 4\n",
    "nrow(bcw[is.element(bcw$Class, '2'),])\n",
    "nrow(bcw[is.element(bcw$Class, '4'),])"
   ]
  },
  {
   "cell_type": "code",
   "execution_count": 19,
   "metadata": {},
   "outputs": [],
   "source": [
    "# Saving pre-processed data\n",
    "saveRDS(bcw, file = \"./Data/bcw_processed.Rda\")"
   ]
  },
  {
   "cell_type": "markdown",
   "metadata": {},
   "source": [
    "Based on the data, we would like to see whether grouping the cancer into 2 class is correct based on the features. Or should we have more classes to group the cancer?"
   ]
  },
  {
   "cell_type": "markdown",
   "metadata": {},
   "source": [
    "## Clustering"
   ]
  },
  {
   "cell_type": "markdown",
   "metadata": {},
   "source": [
    "We will use K-Means and Hierarchical Clustering to cluster the data. Both K-Means Clustering and Hierarchical clustering are considered lazy algorithm, since the algorithm does not create a specific model. In K-Means, the algorithm calculates the distance of each point to the centroid and assign them to specific clusters, where in hierarchical clustering, the algorithm counts the distance of each point to other points and group them to form clusters. Because of that, the data won’t be split into training and test data. All the records will be used to build the clusters, both in K-Means and in Hierarchical Clustering in order to capture all the variance of the data. In clustering, the “Class” column won’t be included, hence the clustering results can be compared to the actual records’ Class at the end to see if the algorithm can cluster this specific data well."
   ]
  },
  {
   "cell_type": "code",
   "execution_count": 20,
   "metadata": {},
   "outputs": [],
   "source": [
    "#Removing the feature Class\n",
    "bcw_clust <- bcw[c(1:9)]"
   ]
  },
  {
   "cell_type": "markdown",
   "metadata": {},
   "source": [
    "### K-Means Clustering"
   ]
  },
  {
   "cell_type": "code",
   "execution_count": 21,
   "metadata": {},
   "outputs": [
    {
     "data": {
      "text/plain": [
       "K-means clustering with 2 clusters of sizes 230, 453\n",
       "\n",
       "Cluster means:\n",
       "  Clump.Thickness Uniformity.of.Cell.Size Uniformity.of.Cell.Shape\n",
       "1        7.173913                6.800000                 6.734783\n",
       "2        3.055188                1.298013                 1.428256\n",
       "  Marginal.Adhesion Single.Ephithelial.Cell.Size Bare.Nuclei Bland.Chromatin\n",
       "1          5.739130                     5.478261    7.930435        6.108696\n",
       "2          1.353201                     2.094923    1.317881        2.092715\n",
       "  Normal.Nucleoli  Mitoses\n",
       "1        6.039130 2.569565\n",
       "2        1.260486 1.112583\n",
       "\n",
       "Clustering vector:\n",
       "  1   2   3   4   5   6   7   8   9  10  11  12  13  14  15  16  17  18  19  20 \n",
       "  2   1   2   1   2   1   2   2   2   2   2   2   2   2   1   2   2   2   1   2 \n",
       " 21  22  23  25  26  27  28  29  30  31  32  33  34  35  36  37  38  39  40  42 \n",
       "  1   1   2   2   2   2   2   2   2   2   2   1   2   2   2   1   2   1   1   1 \n",
       " 43  44  45  46  47  48  49  50  51  52  53  54  55  56  57  58  59  60  61  62 \n",
       "  1   1   1   2   1   2   2   1   2   2   1   1   1   1   1   2   1   2   1   2 \n",
       " 63  64  65  66  67  68  69  70  71  72  73  74  75  76  77  78  79  80  81  82 \n",
       "  1   2   2   2   2   1   1   2   2   1   2   1   1   2   2   2   2   2   2   2 \n",
       " 83  84  85  86  87  88  89  90  91  92  93  94  95  96  97  98  99 100 101 102 \n",
       "  2   2   1   1   1   1   2   2   2   2   2   2   2   2   2   2   1   1   1   2 \n",
       "103 104 105 106 107 108 109 110 111 112 113 114 115 116 117 118 119 120 121 122 \n",
       "  2   2   1   2   1   1   2   1   2   1   1   1   2   2   2   1   2   2   2   2 \n",
       "123 124 125 126 127 128 129 130 131 132 133 134 135 136 137 138 139 141 142 143 \n",
       "  1   1   1   2   1   2   1   2   2   2   1   2   2   2   2   2   2   2   2   1 \n",
       "144 145 147 148 149 150 151 152 153 154 155 156 157 158 160 161 162 163 164 166 \n",
       "  2   2   1   2   2   1   2   1   1   2   2   1   2   2   1   1   2   2   2   2 \n",
       "167 168 169 170 171 172 173 174 175 176 177 178 179 180 181 182 183 184 185 186 \n",
       "  1   1   2   2   2   2   2   1   1   1   2   1   2   1   2   2   2   1   1   2 \n",
       "187 188 189 190 191 192 193 194 195 196 197 198 199 200 201 202 203 204 205 206 \n",
       "  1   1   1   2   1   1   2   2   2   2   1   2   2   2   1   1   2   2   2   1 \n",
       "207 208 209 210 211 212 213 214 215 216 217 218 219 220 221 222 223 224 225 226 \n",
       "  1   2   2   2   1   1   2   1   1   1   2   2   1   2   2   1   2   1   1   2 \n",
       "227 228 229 230 231 232 233 234 235 237 238 239 240 241 242 243 244 245 246 247 \n",
       "  1   1   2   1   1   1   2   1   2   1   1   1   1   2   2   2   2   2   2   1 \n",
       "248 249 251 252 253 254 255 256 257 258 259 260 261 262 263 264 265 266 267 268 \n",
       "  1   2   2   1   1   1   1   1   2   2   2   1   1   1   1   1   1   2   1   1 \n",
       "269 270 271 272 273 274 275 277 278 279 280 281 282 283 284 285 286 287 288 289 \n",
       "  1   2   1   2   1   2   2   2   2   2   1   2   2   1   1   1   1   1   2   1 \n",
       "290 291 292 294 296 297 299 300 301 302 303 304 305 306 307 308 309 310 311 312 \n",
       "  1   2   2   1   1   1   2   1   1   2   1   2   1   1   2   2   1   2   2   2 \n",
       "313 314 315 317 318 319 320 321 323 324 325 326 327 328 329 330 331 332 333 334 \n",
       "  1   2   2   1   1   2   1   1   2   1   2   2   1   2   1   1   1   2   2   1 \n",
       "335 336 337 338 339 340 341 342 343 344 345 346 347 348 349 350 351 352 353 354 \n",
       "  1   2   1   2   2   1   1   2   2   2   1   2   2   2   2   1   2   2   1   1 \n",
       "355 356 357 358 359 360 361 362 363 364 365 366 367 368 369 370 371 372 373 374 \n",
       "  2   2   2   1   1   1   1   1   2   2   2   2   1   1   2   2   2   2   2   2 \n",
       "375 376 377 378 379 380 381 382 383 384 385 386 387 388 389 390 391 392 393 394 \n",
       "  2   2   2   2   2   2   2   1   2   2   2   2   1   2   2   2   2   1   2   2 \n",
       "395 396 397 398 399 400 401 402 403 404 405 406 407 408 409 410 411 413 414 415 \n",
       "  2   2   2   2   2   2   1   2   2   2   2   2   2   2   2   2   2   1   2   1 \n",
       "416 417 418 419 420 421 422 423 424 425 426 427 428 429 430 431 432 433 434 435 \n",
       "  2   1   2   2   2   2   1   2   2   2   1   2   1   2   2   2   2   2   2   1 \n",
       "436 437 438 439 440 441 442 443 444 445 446 447 448 449 450 451 452 453 454 455 \n",
       "  1   1   2   2   2   1   2   2   2   2   2   2   2   2   1   2   2   2   1   2 \n",
       "456 457 458 459 460 461 462 463 464 465 466 467 468 469 470 471 472 473 474 475 \n",
       "  2   1   1   2   2   2   2   2   2   2   1   1   1   2   2   2   2   2   2   2 \n",
       "476 477 478 479 480 481 482 483 484 485 486 487 488 489 490 491 492 493 494 495 \n",
       "  2   2   2   2   1   2   2   1   1   2   2   2   1   1   2   2   1   2   1   2 \n",
       "496 497 498 499 500 501 502 503 504 505 506 507 508 509 510 511 512 513 514 515 \n",
       "  2   2   2   2   2   2   2   2   2   2   2   1   2   2   2   2   2   2   2   1 \n",
       "516 517 518 519 520 521 522 523 524 525 526 527 528 529 530 531 532 533 534 535 \n",
       "  1   2   2   2   1   2   2   1   1   2   2   2   2   2   2   1   2   2   2   2 \n",
       "536 537 538 539 540 541 542 543 544 545 546 547 548 549 550 551 552 553 554 555 \n",
       "  2   2   2   2   2   2   2   2   2   2   2   1   2   2   1   2   2   2   2   2 \n",
       "556 557 558 559 560 561 562 563 564 565 566 567 568 569 570 571 572 573 574 575 \n",
       "  2   2   2   2   2   2   2   2   2   2   1   2   2   1   1   1   1   2   2   1 \n",
       "576 577 578 579 580 581 582 583 584 585 586 587 588 589 590 591 592 593 594 595 \n",
       "  2   2   2   2   2   2   1   1   2   2   2   1   2   1   2   1   1   1   2   1 \n",
       "596 597 598 599 600 601 602 603 604 605 606 607 608 609 610 611 612 613 614 615 \n",
       "  2   2   2   2   2   2   2   2   1   1   1   2   2   1   2   1   1   1   2   2 \n",
       "616 617 619 620 621 622 623 624 625 626 627 628 629 630 631 632 633 634 635 636 \n",
       "  2   2   2   2   2   2   2   2   2   2   1   2   2   2   2   2   2   1   2   2 \n",
       "637 638 639 640 641 642 643 644 645 646 647 648 649 650 651 652 653 654 655 656 \n",
       "  1   2   2   2   2   2   2   2   2   2   2   2   1   2   2   2   2   2   2   2 \n",
       "657 658 659 660 661 662 663 664 665 666 667 668 669 670 671 672 673 674 675 676 \n",
       "  2   2   1   2   2   2   2   2   2   2   2   2   1   1   1   2   2   2   2   2 \n",
       "677 678 679 680 681 682 683 684 685 686 687 688 689 690 691 692 693 694 695 696 \n",
       "  2   2   2   2   1   1   2   2   2   2   2   2   2   2   2   1   2   2   2   2 \n",
       "697 698 699 \n",
       "  1   1   1 \n",
       "\n",
       "Within cluster sum of squares by cluster:\n",
       "[1] 14938.609  4384.565\n",
       " (between_SS / total_SS =  60.1 %)\n",
       "\n",
       "Available components:\n",
       "\n",
       "[1] \"cluster\"      \"centers\"      \"totss\"        \"withinss\"     \"tot.withinss\"\n",
       "[6] \"betweenss\"    \"size\"         \"iter\"         \"ifault\"      "
      ]
     },
     "metadata": {},
     "output_type": "display_data"
    }
   ],
   "source": [
    "set.seed(7719) #setting seed for inital centroids\n",
    "\n",
    "#clustering data into 2 clusters\n",
    "(kmeans_result <- kmeans(bcw_clust, 2))"
   ]
  },
  {
   "cell_type": "code",
   "execution_count": 22,
   "metadata": {},
   "outputs": [
    {
     "data": {
      "image/png": "[encoded data removed]",
      "text/plain": [
       "plot without title"
      ]
     },
     "metadata": {},
     "output_type": "display_data"
    }
   ],
   "source": [
    "#Plotting clustering result\n",
    "plot(bcw[, c(\"Clump.Thickness\",\"Uniformity.of.Cell.Size\")], pch=16,\n",
    "     col=kmeans_result$cluster)\n",
    "points(kmeans_result$centers, pch=8, cex=3, col=1:2)"
   ]
  },
  {
   "cell_type": "markdown",
   "metadata": {},
   "source": [
    "Figure above shows that most of the records with Uniformity of Cell Size ≤ 3 is clustered into one group, and the records with Uniformity of Cell Size > 3. "
   ]
  },
  {
   "cell_type": "code",
   "execution_count": 27,
   "metadata": {},
   "outputs": [
    {
     "data": {
      "image/png": "[encoded data removed]",
      "text/plain": [
       "plot without title"
      ]
     },
     "metadata": {},
     "output_type": "display_data"
    }
   ],
   "source": [
    "# Plotting with color based on class\n",
    "plot(bcw[, c(\"Clump.Thickness\",\"Uniformity.of.Cell.Size\")],pch=16,\n",
    "     col=bcw$Class)"
   ]
  },
  {
   "cell_type": "markdown",
   "metadata": {},
   "source": [
    "Figure above shows benign has lower value of uniformity of cell size and clump thickness, while malignant has bigger value of those 2 predictors. "
   ]
  },
  {
   "cell_type": "code",
   "execution_count": 29,
   "metadata": {},
   "outputs": [
    {
     "data": {
      "image/png": "[encoded data removed]",
      "text/plain": [
       "Plot with title \"Group based on Class\""
      ]
     },
     "metadata": {},
     "output_type": "display_data"
    }
   ],
   "source": [
    "par(mfrow=c(1,2))\n",
    "plot(bcw[, c(\"Clump.Thickness\",\"Uniformity.of.Cell.Size\")], pch=16,\n",
    "     col=kmeans_result$cluster, main=\"Cluster k=2\")\n",
    "plot(bcw[, c(\"Clump.Thickness\",\"Uniformity.of.Cell.Size\")],pch=16,\n",
    "     col=bcw$Class, main=\"Group based on Class\")\n",
    "par(mfrow=c(1,1))"
   ]
  },
  {
   "cell_type": "code",
   "execution_count": 30,
   "metadata": {
    "scrolled": false
   },
   "outputs": [
    {
     "data": {
      "text/plain": [
       "K-means clustering with 3 clusters of sizes 123, 442, 118\n",
       "\n",
       "Cluster means:\n",
       "  Clump.Thickness Uniformity.of.Cell.Size Uniformity.of.Cell.Shape\n",
       "1        7.081301                8.430894                 8.146341\n",
       "2        2.941176                1.251131                 1.361991\n",
       "3        7.313559                4.762712                 5.016949\n",
       "  Marginal.Adhesion Single.Ephithelial.Cell.Size Bare.Nuclei Bland.Chromatin\n",
       "1          6.715447                     6.552846    7.235772        6.959350\n",
       "2          1.314480                     2.061086    1.271493        2.058824\n",
       "3          4.457627                     4.169492    8.211864        4.974576\n",
       "  Normal.Nucleoli  Mitoses\n",
       "1        7.666667 3.390244\n",
       "2        1.221719 1.070136\n",
       "3        4.042373 1.737288\n",
       "\n",
       "Clustering vector:\n",
       "  1   2   3   4   5   6   7   8   9  10  11  12  13  14  15  16  17  18  19  20 \n",
       "  2   3   2   3   2   1   2   2   2   2   2   2   2   2   1   3   2   2   3   2 \n",
       " 21  22  23  25  26  27  28  29  30  31  32  33  34  35  36  37  38  39  40  42 \n",
       "  3   3   2   2   3   2   2   2   2   2   2   1   2   2   2   1   2   3   3   3 \n",
       " 43  44  45  46  47  48  49  50  51  52  53  54  55  56  57  58  59  60  61  62 \n",
       "  1   3   1   2   3   2   2   3   3   2   3   1   3   3   1   2   3   3   3   2 \n",
       " 63  64  65  66  67  68  69  70  71  72  73  74  75  76  77  78  79  80  81  82 \n",
       "  1   3   2   3   2   3   1   2   2   1   2   3   3   2   2   2   2   2   2   2 \n",
       " 83  84  85  86  87  88  89  90  91  92  93  94  95  96  97  98  99 100 101 102 \n",
       "  2   2   1   1   3   1   2   2   2   2   2   2   2   2   2   2   1   1   3   2 \n",
       "103 104 105 106 107 108 109 110 111 112 113 114 115 116 117 118 119 120 121 122 \n",
       "  2   3   1   3   3   1   2   3   2   3   3   1   2   2   2   1   2   2   2   2 \n",
       "123 124 125 126 127 128 129 130 131 132 133 134 135 136 137 138 139 141 142 143 \n",
       "  1   3   1   2   3   2   3   2   2   2   1   2   2   2   2   2   2   2   2   3 \n",
       "144 145 147 148 149 150 151 152 153 154 155 156 157 158 160 161 162 163 164 166 \n",
       "  2   2   3   2   2   1   2   3   1   2   2   3   2   2   1   3   2   2   2   2 \n",
       "167 168 169 170 171 172 173 174 175 176 177 178 179 180 181 182 183 184 185 186 \n",
       "  1   1   2   2   2   2   2   1   3   1   2   1   2   3   2   2   2   1   3   2 \n",
       "187 188 189 190 191 192 193 194 195 196 197 198 199 200 201 202 203 204 205 206 \n",
       "  1   1   1   2   1   1   2   2   2   2   3   2   2   2   1   3   2   2   2   1 \n",
       "207 208 209 210 211 212 213 214 215 216 217 218 219 220 221 222 223 224 225 226 \n",
       "  1   2   2   2   1   1   2   1   1   1   2   2   1   2   2   1   2   3   3   2 \n",
       "227 228 229 230 231 232 233 234 235 237 238 239 240 241 242 243 244 245 246 247 \n",
       "  3   1   2   1   3   1   3   3   2   1   1   1   3   2   2   2   2   2   2   1 \n",
       "248 249 251 252 253 254 255 256 257 258 259 260 261 262 263 264 265 266 267 268 \n",
       "  3   2   2   3   3   1   1   3   2   2   2   3   3   1   1   3   1   2   3   3 \n",
       "269 270 271 272 273 274 275 277 278 279 280 281 282 283 284 285 286 287 288 289 \n",
       "  1   2   3   2   3   2   2   2   2   2   3   2   2   3   3   3   1   1   2   3 \n",
       "290 291 292 294 296 297 299 300 301 302 303 304 305 306 307 308 309 310 311 312 \n",
       "  1   2   2   3   3   3   2   3   1   2   1   2   3   3   2   2   1   2   2   2 \n",
       "313 314 315 317 318 319 320 321 323 324 325 326 327 328 329 330 331 332 333 334 \n",
       "  1   2   2   3   1   2   3   3   2   3   2   2   3   2   1   3   3   2   2   3 \n",
       "335 336 337 338 339 340 341 342 343 344 345 346 347 348 349 350 351 352 353 354 \n",
       "  3   2   3   2   2   3   3   2   2   2   1   2   2   2   2   3   2   2   3   1 \n",
       "355 356 357 358 359 360 361 362 363 364 365 366 367 368 369 370 371 372 373 374 \n",
       "  2   2   2   1   1   3   1   3   2   2   2   2   1   1   2   2   2   2   2   2 \n",
       "375 376 377 378 379 380 381 382 383 384 385 386 387 388 389 390 391 392 393 394 \n",
       "  2   2   2   2   2   2   2   3   2   2   2   2   3   2   2   2   2   1   2   2 \n",
       "395 396 397 398 399 400 401 402 403 404 405 406 407 408 409 410 411 413 414 415 \n",
       "  2   2   2   2   2   2   1   2   2   2   2   2   2   2   2   2   2   1   2   3 \n",
       "416 417 418 419 420 421 422 423 424 425 426 427 428 429 430 431 432 433 434 435 \n",
       "  2   3   2   2   2   2   1   2   2   2   1   2   1   2   2   2   2   2   2   3 \n",
       "436 437 438 439 440 441 442 443 444 445 446 447 448 449 450 451 452 453 454 455 \n",
       "  3   1   2   2   2   3   2   2   2   2   2   2   2   2   1   2   2   2   1   2 \n",
       "456 457 458 459 460 461 462 463 464 465 466 467 468 469 470 471 472 473 474 475 \n",
       "  3   3   1   2   2   2   2   2   2   2   1   3   3   2   2   2   2   2   2   2 \n",
       "476 477 478 479 480 481 482 483 484 485 486 487 488 489 490 491 492 493 494 495 \n",
       "  2   2   2   2   1   2   2   1   1   2   2   2   1   3   2   2   3   2   1   3 \n",
       "496 497 498 499 500 501 502 503 504 505 506 507 508 509 510 511 512 513 514 515 \n",
       "  2   2   2   2   2   2   2   2   2   2   2   1   2   2   2   2   2   2   2   1 \n",
       "516 517 518 519 520 521 522 523 524 525 526 527 528 529 530 531 532 533 534 535 \n",
       "  1   2   2   2   3   2   2   3   3   2   2   2   2   2   2   3   2   2   2   2 \n",
       "536 537 538 539 540 541 542 543 544 545 546 547 548 549 550 551 552 553 554 555 \n",
       "  2   2   2   2   2   2   2   2   2   2   2   1   2   2   1   2   2   2   2   2 \n",
       "556 557 558 559 560 561 562 563 564 565 566 567 568 569 570 571 572 573 574 575 \n",
       "  2   2   2   2   2   2   2   2   2   2   1   2   2   3   1   3   1   2   2   1 \n",
       "576 577 578 579 580 581 582 583 584 585 586 587 588 589 590 591 592 593 594 595 \n",
       "  2   2   2   2   2   2   1   1   2   2   2   1   2   3   2   1   3   3   2   3 \n",
       "596 597 598 599 600 601 602 603 604 605 606 607 608 609 610 611 612 613 614 615 \n",
       "  2   2   2   2   2   2   2   2   1   3   1   2   2   1   2   3   1   1   2   2 \n",
       "616 617 619 620 621 622 623 624 625 626 627 628 629 630 631 632 633 634 635 636 \n",
       "  2   2   2   2   2   2   2   2   2   2   1   2   2   2   2   2   2   1   2   2 \n",
       "637 638 639 640 641 642 643 644 645 646 647 648 649 650 651 652 653 654 655 656 \n",
       "  1   2   2   2   2   2   2   2   2   2   2   2   1   2   2   2   2   2   2   2 \n",
       "657 658 659 660 661 662 663 664 665 666 667 668 669 670 671 672 673 674 675 676 \n",
       "  2   2   3   2   2   2   2   2   2   2   2   2   1   1   1   2   2   2   2   2 \n",
       "677 678 679 680 681 682 683 684 685 686 687 688 689 690 691 692 693 694 695 696 \n",
       "  2   2   2   2   1   1   2   2   2   2   2   2   2   2   2   1   2   2   2   2 \n",
       "697 698 699 \n",
       "  1   1   1 \n",
       "\n",
       "Within cluster sum of squares by cluster:\n",
       "[1] 7347.724 3443.303 5464.890\n",
       " (between_SS / total_SS =  66.4 %)\n",
       "\n",
       "Available components:\n",
       "\n",
       "[1] \"cluster\"      \"centers\"      \"totss\"        \"withinss\"     \"tot.withinss\"\n",
       "[6] \"betweenss\"    \"size\"         \"iter\"         \"ifault\"      "
      ]
     },
     "metadata": {},
     "output_type": "display_data"
    },
    {
     "data": {
      "image/png": "[encoded data removed]",
      "text/plain": [
       "Plot with title \"Clustering k=3\""
      ]
     },
     "metadata": {},
     "output_type": "display_data"
    }
   ],
   "source": [
    "#Clustering data into 3 cluster using K-Means clustering\n",
    "(kmeans_result_3<-kmeans(bcw_clust,3))\n",
    "\n",
    "#Plotting clustering result\n",
    "plot(bcw[, c(\"Clump.Thickness\",\"Uniformity.of.Cell.Size\")],main='Clustering k=3',pch=16,\n",
    "     col=kmeans_result_3$cluster)\n",
    "points(kmeans_result_3$centers, pch=8, cex=3, col=1:3)"
   ]
  },
  {
   "cell_type": "code",
   "execution_count": 31,
   "metadata": {
    "scrolled": false
   },
   "outputs": [
    {
     "data": {
      "text/plain": [
       "K-means clustering with 4 clusters of sizes 124, 107, 183, 269\n",
       "\n",
       "Cluster means:\n",
       "  Clump.Thickness Uniformity.of.Cell.Size Uniformity.of.Cell.Shape\n",
       "1        7.096774                8.427419                 8.145161\n",
       "2        7.280374                4.859813                 5.093458\n",
       "3        1.262295                1.125683                 1.202186\n",
       "4        4.252788                1.416357                 1.565056\n",
       "  Marginal.Adhesion Single.Ephithelial.Cell.Size Bare.Nuclei Bland.Chromatin\n",
       "1          6.733871                     6.548387    7.201613        6.935484\n",
       "2          4.523364                     4.130841    8.785047        5.112150\n",
       "3          1.142077                     1.978142    1.240437        2.000000\n",
       "4          1.505576                     2.204461    1.342007        2.156134\n",
       "  Normal.Nucleoli  Mitoses\n",
       "1        7.612903 3.370968\n",
       "2        4.214953 1.663551\n",
       "3        1.065574 1.103825\n",
       "4        1.375465 1.104089\n",
       "\n",
       "Clustering vector:\n",
       "  1   2   3   4   5   6   7   8   9  10  11  12  13  14  15  16  17  18  19  20 \n",
       "  4   2   4   2   4   1   3   3   3   4   3   3   4   3   1   4   4   4   2   4 \n",
       " 21  22  23  25  26  27  28  29  30  31  32  33  34  35  36  37  38  39  40  42 \n",
       "  2   2   4   3   2   4   4   3   3   4   3   1   3   4   3   1   4   2   2   2 \n",
       " 43  44  45  46  47  48  49  50  51  52  53  54  55  56  57  58  59  60  61  62 \n",
       "  1   4   1   3   2   3   4   2   2   4   2   1   2   2   1   4   2   4   2   3 \n",
       " 63  64  65  66  67  68  69  70  71  72  73  74  75  76  77  78  79  80  81  82 \n",
       "  1   4   3   4   4   2   1   3   4   1   3   2   2   3   3   4   4   3   3   4 \n",
       " 83  84  85  86  87  88  89  90  91  92  93  94  95  96  97  98  99 100 101 102 \n",
       "  4   4   1   1   2   1   4   3   3   4   4   3   3   3   3   4   1   1   2   4 \n",
       "103 104 105 106 107 108 109 110 111 112 113 114 115 116 117 118 119 120 121 122 \n",
       "  4   4   1   4   2   1   3   2   3   2   2   1   4   3   4   1   3   4   3   4 \n",
       "123 124 125 126 127 128 129 130 131 132 133 134 135 136 137 138 139 141 142 143 \n",
       "  1   2   1   3   2   4   2   3   4   3   1   4   4   4   4   4   4   4   3   2 \n",
       "144 145 147 148 149 150 151 152 153 154 155 156 157 158 160 161 162 163 164 166 \n",
       "  3   3   2   3   4   1   3   2   1   4   3   2   3   3   1   2   4   4   3   4 \n",
       "167 168 169 170 171 172 173 174 175 176 177 178 179 180 181 182 183 184 185 186 \n",
       "  1   1   4   3   4   3   3   1   2   1   3   1   4   2   3   3   4   1   2   3 \n",
       "187 188 189 190 191 192 193 194 195 196 197 198 199 200 201 202 203 204 205 206 \n",
       "  1   1   1   3   1   1   4   3   4   4   2   4   3   4   1   2   3   4   3   1 \n",
       "207 208 209 210 211 212 213 214 215 216 217 218 219 220 221 222 223 224 225 226 \n",
       "  1   3   3   4   1   1   3   1   1   1   3   3   1   4   3   1   4   2   2   3 \n",
       "227 228 229 230 231 232 233 234 235 237 238 239 240 241 242 243 244 245 246 247 \n",
       "  2   1   3   1   2   1   4   2   4   1   1   1   2   4   4   3   3   3   4   1 \n",
       "248 249 251 252 253 254 255 256 257 258 259 260 261 262 263 264 265 266 267 268 \n",
       "  2   4   3   2   2   1   1   2   4   4   4   2   2   1   1   2   1   4   2   2 \n",
       "269 270 271 272 273 274 275 277 278 279 280 281 282 283 284 285 286 287 288 289 \n",
       "  1   3   2   4   2   4   4   4   3   3   2   4   3   2   2   2   1   1   4   2 \n",
       "290 291 292 294 296 297 299 300 301 302 303 304 305 306 307 308 309 310 311 312 \n",
       "  1   3   3   2   2   2   4   2   1   3   1   3   2   2   3   3   1   4   3   3 \n",
       "313 314 315 317 318 319 320 321 323 324 325 326 327 328 329 330 331 332 333 334 \n",
       "  1   3   3   2   1   3   2   2   4   2   3   4   2   3   1   2   2   4   4   2 \n",
       "335 336 337 338 339 340 341 342 343 344 345 346 347 348 349 350 351 352 353 354 \n",
       "  2   3   2   3   3   2   2   3   3   3   1   3   4   3   4   2   4   3   2   1 \n",
       "355 356 357 358 359 360 361 362 363 364 365 366 367 368 369 370 371 372 373 374 \n",
       "  3   4   4   1   1   2   1   2   4   4   3   3   1   1   3   3   4   3   4   4 \n",
       "375 376 377 378 379 380 381 382 383 384 385 386 387 388 389 390 391 392 393 394 \n",
       "  4   3   3   3   4   4   3   2   4   3   3   4   2   4   3   4   3   1   4   3 \n",
       "395 396 397 398 399 400 401 402 403 404 405 406 407 408 409 410 411 413 414 415 \n",
       "  3   4   4   4   4   3   1   4   4   4   3   3   4   3   3   4   3   1   4   2 \n",
       "416 417 418 419 420 421 422 423 424 425 426 427 428 429 430 431 432 433 434 435 \n",
       "  4   2   3   4   3   4   1   4   4   4   1   4   1   3   3   3   4   4   4   2 \n",
       "436 437 438 439 440 441 442 443 444 445 446 447 448 449 450 451 452 453 454 455 \n",
       "  2   1   4   4   4   2   4   3   3   4   3   3   4   3   1   4   4   4   1   3 \n",
       "456 457 458 459 460 461 462 463 464 465 466 467 468 469 470 471 472 473 474 475 \n",
       "  4   2   1   4   4   4   4   4   4   4   1   2   2   4   3   4   4   4   4   4 \n",
       "476 477 478 479 480 481 482 483 484 485 486 487 488 489 490 491 492 493 494 495 \n",
       "  4   4   4   4   1   4   4   1   1   4   3   4   1   2   4   3   2   4   1   4 \n",
       "496 497 498 499 500 501 502 503 504 505 506 507 508 509 510 511 512 513 514 515 \n",
       "  4   3   4   4   4   4   4   4   4   3   4   1   3   4   3   3   4   4   4   1 \n",
       "516 517 518 519 520 521 522 523 524 525 526 527 528 529 530 531 532 533 534 535 \n",
       "  1   3   3   4   2   3   4   2   2   4   4   4   4   4   4   2   4   3   4   3 \n",
       "536 537 538 539 540 541 542 543 544 545 546 547 548 549 550 551 552 553 554 555 \n",
       "  3   4   4   4   4   4   4   4   4   3   4   1   3   3   1   4   3   4   4   4 \n",
       "556 557 558 559 560 561 562 563 564 565 566 567 568 569 570 571 572 573 574 575 \n",
       "  4   4   4   3   4   4   4   3   4   4   1   4   4   2   1   2   1   4   3   1 \n",
       "576 577 578 579 580 581 582 583 584 585 586 587 588 589 590 591 592 593 594 595 \n",
       "  4   4   3   3   3   4   1   1   4   4   3   1   4   1   4   1   2   2   4   2 \n",
       "596 597 598 599 600 601 602 603 604 605 606 607 608 609 610 611 612 613 614 615 \n",
       "  4   4   4   4   4   4   3   4   1   2   1   4   3   1   4   2   1   1   3   3 \n",
       "616 617 619 620 621 622 623 624 625 626 627 628 629 630 631 632 633 634 635 636 \n",
       "  4   4   4   4   4   4   4   3   4   4   1   3   3   4   4   4   3   1   4   4 \n",
       "637 638 639 640 641 642 643 644 645 646 647 648 649 650 651 652 653 654 655 656 \n",
       "  1   4   4   4   4   4   4   3   3   4   3   3   1   4   4   3   4   4   4   4 \n",
       "657 658 659 660 661 662 663 664 665 666 667 668 669 670 671 672 673 674 675 676 \n",
       "  4   4   2   3   3   4   3   3   4   3   4   4   1   1   1   4   3   4   3   4 \n",
       "677 678 679 680 681 682 683 684 685 686 687 688 689 690 691 692 693 694 695 696 \n",
       "  3   4   3   3   1   1   4   3   3   3   3   4   4   3   3   1   4   4   4   3 \n",
       "697 698 699 \n",
       "  1   1   1 \n",
       "\n",
       "Within cluster sum of squares by cluster:\n",
       "[1] 7433.298 4525.065  764.918 2531.428\n",
       " (between_SS / total_SS =  68.5 %)\n",
       "\n",
       "Available components:\n",
       "\n",
       "[1] \"cluster\"      \"centers\"      \"totss\"        \"withinss\"     \"tot.withinss\"\n",
       "[6] \"betweenss\"    \"size\"         \"iter\"         \"ifault\"      "
      ]
     },
     "metadata": {},
     "output_type": "display_data"
    },
    {
     "data": {
      "image/png": "[encoded data removed]",
      "text/plain": [
       "Plot with title \"Clustering k=4\""
      ]
     },
     "metadata": {},
     "output_type": "display_data"
    }
   ],
   "source": [
    "#Clustering data into 4 cluster using K-Means clustering\n",
    "(kmeans_result_4<-kmeans(bcw_clust,4))\n",
    "\n",
    "#Plotting clustering result\n",
    "plot(bcw[, c(\"Clump.Thickness\",\"Uniformity.of.Cell.Size\")],main='Clustering k=4',pch=16,\n",
    "     col=kmeans_result_4$cluster)\n",
    "points(kmeans_result_4$centers, pch=8, cex=3, col=1:4)"
   ]
  },
  {
   "cell_type": "code",
   "execution_count": 32,
   "metadata": {
    "scrolled": false
   },
   "outputs": [
    {
     "data": {
      "text/plain": [
       "K-means clustering with 5 clusters of sizes 187, 124, 80, 186, 106\n",
       "\n",
       "Cluster means:\n",
       "  Clump.Thickness Uniformity.of.Cell.Size Uniformity.of.Cell.Shape\n",
       "1        4.834225                1.556150                 1.770053\n",
       "2        7.096774                8.427419                 8.145161\n",
       "3        1.762500                1.187500                 1.200000\n",
       "4        1.822581                1.107527                 1.193548\n",
       "5        7.264151                4.858491                 5.066038\n",
       "  Marginal.Adhesion Single.Ephithelial.Cell.Size Bare.Nuclei Bland.Chromatin\n",
       "1          1.636364                     2.304813    1.358289        2.192513\n",
       "2          6.733871                     6.548387    7.201613        6.935484\n",
       "3          1.187500                     1.912500    1.387500        3.250000\n",
       "4          1.150538                     2.005376    1.215054        1.494624\n",
       "5          4.556604                     4.150943    8.839623        5.141509\n",
       "  Normal.Nucleoli  Mitoses\n",
       "1        1.502674 1.165775\n",
       "2        7.612903 3.370968\n",
       "3        1.100000 1.012500\n",
       "4        1.059140 1.102151\n",
       "5        4.245283 1.632075\n",
       "\n",
       "Clustering vector:\n",
       "  1   2   3   4   5   6   7   8   9  10  11  12  13  14  15  16  17  18  19  20 \n",
       "  1   5   3   5   1   2   3   3   4   1   3   4   1   3   2   1   1   1   5   1 \n",
       " 21  22  23  25  26  27  28  29  30  31  32  33  34  35  36  37  38  39  40  42 \n",
       "  5   5   4   3   5   4   1   4   4   4   3   2   3   4   4   2   1   5   5   5 \n",
       " 43  44  45  46  47  48  49  50  51  52  53  54  55  56  57  58  59  60  61  62 \n",
       "  2   1   2   4   5   4   1   5   1   1   5   2   5   5   2   1   5   1   5   4 \n",
       " 63  64  65  66  67  68  69  70  71  72  73  74  75  76  77  78  79  80  81  82 \n",
       "  2   1   4   1   1   5   2   3   1   2   3   5   5   3   4   1   3   4   3   1 \n",
       " 83  84  85  86  87  88  89  90  91  92  93  94  95  96  97  98  99 100 101 102 \n",
       "  1   3   2   2   5   2   1   4   3   4   1   4   3   3   4   1   2   2   5   1 \n",
       "103 104 105 106 107 108 109 110 111 112 113 114 115 116 117 118 119 120 121 122 \n",
       "  1   1   2   1   5   2   4   5   3   5   5   2   3   4   1   2   4   3   3   1 \n",
       "123 124 125 126 127 128 129 130 131 132 133 134 135 136 137 138 139 141 142 143 \n",
       "  2   5   2   4   5   3   5   4   1   3   2   4   4   1   1   4   1   4   4   5 \n",
       "144 145 147 148 149 150 151 152 153 154 155 156 157 158 160 161 162 163 164 166 \n",
       "  4   4   5   4   1   2   3   5   2   1   4   5   4   3   2   5   1   3   4   1 \n",
       "167 168 169 170 171 172 173 174 175 176 177 178 179 180 181 182 183 184 185 186 \n",
       "  2   2   3   4   4   3   4   2   5   2   3   2   1   5   3   4   1   2   5   3 \n",
       "187 188 189 190 191 192 193 194 195 196 197 198 199 200 201 202 203 204 205 206 \n",
       "  2   2   2   3   2   2   1   3   3   1   5   1   4   4   2   5   3   1   3   2 \n",
       "207 208 209 210 211 212 213 214 215 216 217 218 219 220 221 222 223 224 225 226 \n",
       "  2   3   3   1   2   2   3   2   2   2   4   3   2   1   3   2   1   5   5   4 \n",
       "227 228 229 230 231 232 233 234 235 237 238 239 240 241 242 243 244 245 246 247 \n",
       "  5   2   3   2   5   2   1   5   1   2   2   2   5   1   3   3   3   3   1   2 \n",
       "248 249 251 252 253 254 255 256 257 258 259 260 261 262 263 264 265 266 267 268 \n",
       "  5   1   4   5   5   2   2   5   4   4   3   5   5   2   2   5   2   1   5   5 \n",
       "269 270 271 272 273 274 275 277 278 279 280 281 282 283 284 285 286 287 288 289 \n",
       "  2   3   5   1   5   1   3   4   4   3   5   3   3   5   5   5   2   2   4   5 \n",
       "290 291 292 294 296 297 299 300 301 302 303 304 305 306 307 308 309 310 311 312 \n",
       "  2   4   3   5   5   5   1   5   2   3   2   3   5   5   3   3   2   3   4   4 \n",
       "313 314 315 317 318 319 320 321 323 324 325 326 327 328 329 330 331 332 333 334 \n",
       "  2   4   4   5   2   3   5   5   3   5   3   1   5   4   2   5   5   1   1   5 \n",
       "335 336 337 338 339 340 341 342 343 344 345 346 347 348 349 350 351 352 353 354 \n",
       "  5   4   5   3   4   5   5   3   4   4   2   4   1   4   1   5   1   3   5   2 \n",
       "355 356 357 358 359 360 361 362 363 364 365 366 367 368 369 370 371 372 373 374 \n",
       "  4   1   1   2   2   5   2   5   1   1   3   4   2   2   4   4   1   4   1   1 \n",
       "375 376 377 378 379 380 381 382 383 384 385 386 387 388 389 390 391 392 393 394 \n",
       "  4   4   4   4   1   1   4   5   3   4   4   1   5   1   4   1   4   2   4   4 \n",
       "395 396 397 398 399 400 401 402 403 404 405 406 407 408 409 410 411 413 414 415 \n",
       "  4   4   3   1   4   4   2   4   1   4   4   4   1   4   3   4   4   2   1   5 \n",
       "416 417 418 419 420 421 422 423 424 425 426 427 428 429 430 431 432 433 434 435 \n",
       "  1   5   4   1   4   3   2   1   1   4   2   1   2   4   4   4   1   1   4   5 \n",
       "436 437 438 439 440 441 442 443 444 445 446 447 448 449 450 451 452 453 454 455 \n",
       "  5   2   1   1   1   5   1   4   4   1   4   4   1   4   2   1   1   4   2   4 \n",
       "456 457 458 459 460 461 462 463 464 465 466 467 468 469 470 471 472 473 474 475 \n",
       "  1   5   2   1   1   1   4   1   1   1   2   5   5   1   4   4   1   1   1   1 \n",
       "476 477 478 479 480 481 482 483 484 485 486 487 488 489 490 491 492 493 494 495 \n",
       "  4   1   1   1   2   1   1   2   2   1   4   4   2   5   1   4   5   1   2   1 \n",
       "496 497 498 499 500 501 502 503 504 505 506 507 508 509 510 511 512 513 514 515 \n",
       "  4   4   1   1   1   1   1   1   1   4   4   2   4   1   4   4   1   1   4   2 \n",
       "516 517 518 519 520 521 522 523 524 525 526 527 528 529 530 531 532 533 534 535 \n",
       "  2   4   4   4   5   4   1   5   5   4   4   1   1   1   1   5   1   3   4   4 \n",
       "536 537 538 539 540 541 542 543 544 545 546 547 548 549 550 551 552 553 554 555 \n",
       "  3   1   1   1   1   1   4   1   1   4   1   2   4   4   2   4   3   3   1   4 \n",
       "556 557 558 559 560 561 562 563 564 565 566 567 568 569 570 571 572 573 574 575 \n",
       "  1   1   1   4   1   1   1   3   4   1   2   3   1   5   2   5   2   4   4   2 \n",
       "576 577 578 579 580 581 582 583 584 585 586 587 588 589 590 591 592 593 594 595 \n",
       "  1   1   4   4   3   1   2   2   4   1   4   2   1   2   1   2   5   5   1   5 \n",
       "596 597 598 599 600 601 602 603 604 605 606 607 608 609 610 611 612 613 614 615 \n",
       "  1   1   1   4   1   4   4   1   2   5   2   1   4   2   1   5   2   2   4   4 \n",
       "616 617 619 620 621 622 623 624 625 626 627 628 629 630 631 632 633 634 635 636 \n",
       "  1   4   1   1   4   1   1   4   1   4   2   4   4   1   1   1   4   2   4   4 \n",
       "637 638 639 640 641 642 643 644 645 646 647 648 649 650 651 652 653 654 655 656 \n",
       "  2   1   1   1   1   4   4   4   4   4   4   4   2   4   4   4   1   1   3   4 \n",
       "657 658 659 660 661 662 663 664 665 666 667 668 669 670 671 672 673 674 675 676 \n",
       "  1   1   5   4   4   1   4   4   4   4   1   3   2   2   2   3   3   1   4   1 \n",
       "677 678 679 680 681 682 683 684 685 686 687 688 689 690 691 692 693 694 695 696 \n",
       "  4   1   4   4   2   2   1   4   4   4   4   4   1   4   4   2   4   4   4   4 \n",
       "697 698 699 \n",
       "  2   2   2 \n",
       "\n",
       "Within cluster sum of squares by cluster:\n",
       "[1] 2146.7059 7433.2984  324.2250  666.1075 4431.1887\n",
       " (between_SS / total_SS =  69.0 %)\n",
       "\n",
       "Available components:\n",
       "\n",
       "[1] \"cluster\"      \"centers\"      \"totss\"        \"withinss\"     \"tot.withinss\"\n",
       "[6] \"betweenss\"    \"size\"         \"iter\"         \"ifault\"      "
      ]
     },
     "metadata": {},
     "output_type": "display_data"
    },
    {
     "data": {
      "image/png": "[encoded data removed]",
      "text/plain": [
       "Plot with title \"Clustering k=5\""
      ]
     },
     "metadata": {},
     "output_type": "display_data"
    }
   ],
   "source": [
    "#Clustering data into 5 cluster using K-Means clustering\n",
    "(kmeans_result_5<-kmeans(bcw_clust,5))\n",
    "\n",
    "#Plotting clustering result\n",
    "plot(bcw[, c(\"Clump.Thickness\",\"Uniformity.of.Cell.Size\")],main='Clustering k=5', pch=16,\n",
    "     col=kmeans_result_5$cluster)\n",
    "points(kmeans_result_5$centers, pch=8, cex=3, col=1:5)"
   ]
  },
  {
   "cell_type": "markdown",
   "metadata": {},
   "source": [
    "To evaluate K-Means cluster, the most common measure is using SSE (Sum of Square Error). SSE is basically the sum of SSE of each cluster. \n",
    "Within clusters sum of squares is the distances of points to centroid within a cluster. One expects, this ratio, to be as low as possible for each cluster, since we would like to have homogeneity within the clusters. \n",
    "Between clusters sum of squares is the mean distances between cluster centroids. One expects, this ratio, to be as higher as possible, since we would like to have heterogeneous clusters."
   ]
  },
  {
   "cell_type": "code",
   "execution_count": 33,
   "metadata": {},
   "outputs": [
    {
     "data": {
      "image/png": "[encoded data removed]",
      "text/plain": [
       "Plot with title \"WITHIN CLUSTER SUM OF SQUARE ERROR\""
      ]
     },
     "metadata": {},
     "output_type": "display_data"
    }
   ],
   "source": [
    "set.seed(7719)\n",
    "#Comparing within cluster SSE\n",
    "sse = vector('numeric')\n",
    "for (i in 2:5){sse[i-1] = sum(kmeans(bcw_clust, centers=i)$withins)}\n",
    "sse = as.data.frame(sse)\n",
    "sse$k = seq.int(2,5)\n",
    "#Making the plot\n",
    "plot(sse$k,sse$sse, type='b', main = \"WITHIN CLUSTER SUM OF SQUARE ERROR\", xlab=\"number of K\", \n",
    "     ylab = \"SSE\")"
   ]
  },
  {
   "cell_type": "code",
   "execution_count": 34,
   "metadata": {},
   "outputs": [
    {
     "data": {
      "image/png": "[encoded data removed]",
      "text/plain": [
       "Plot with title \"BETWEEN CLUSTER SUM OF SQUARE ERROR\""
      ]
     },
     "metadata": {},
     "output_type": "display_data"
    }
   ],
   "source": [
    "#Comparing between cluster SSE\n",
    "sse = vector('numeric')\n",
    "for (i in 2:5){sse[i-1] = sum(kmeans(bcw_clust, centers=i)$betweens)}\n",
    "sse = as.data.frame(sse)\n",
    "sse$k = seq.int(2,5)\n",
    "#Making the plot\n",
    "plot(sse$k,sse$sse, type='b', main = \"BETWEEN CLUSTER SUM OF SQUARE ERROR\", xlab=\"number of K\", \n",
    "     ylab = \"SSE\")"
   ]
  },
  {
   "cell_type": "markdown",
   "metadata": {},
   "source": [
    "We can see as the value of k increases, the value of within SSE decreases and the value of between SSE increases. In this particular case, k=5 is resulting the best clusters.  There is no definitive answer to this question. The optimal number of clusters is somehow subjective and depends on the method used for measuring similarities and the parameters used for partitioning However, there are some popular methods that we can use to calculate optimum clusters in K-means clustering:"
   ]
  },
  {
   "cell_type": "markdown",
   "metadata": {},
   "source": [
    "### Elbow Method"
   ]
  },
  {
   "cell_type": "code",
   "execution_count": 35,
   "metadata": {},
   "outputs": [],
   "source": [
    "#Calculating the best k in kmeans using Elbow Method\n",
    "wss = kmeans(bcw_clust,centers=1)$tot.withinss\n",
    "for (i in 2:10)\n",
    "  wss[i] = kmeans(bcw_clust, centers=i)$tot.withinss"
   ]
  },
  {
   "cell_type": "code",
   "execution_count": 38,
   "metadata": {},
   "outputs": [
    {
     "name": "stdout",
     "output_type": "stream",
     "text": [
      "package 'ggvis' successfully unpacked and MD5 sums checked\n",
      "\n",
      "The downloaded binary packages are in\n",
      "\tC:\\Users\\bpurba\\AppData\\Local\\Temp\\RtmpOI0A0L\\downloaded_packages\n"
     ]
    }
   ],
   "source": [
    "install.packages('ggvis')"
   ]
  },
  {
   "cell_type": "code",
   "execution_count": 42,
   "metadata": {},
   "outputs": [],
   "source": [
    "options(warn = -1)\n",
    "library(ggvis) #Install.packages(\"ggvis\")\n",
    "sse = data.frame(c(1:10), c(wss))\n",
    "names(sse)[1] = 'Clusters'\n",
    "names(sse)[2] = 'SSE'\n",
    "sse %>%\n",
    "  ggvis(~Clusters, ~SSE) %>%\n",
    "  layer_points(fill := 'blue') %>% \n",
    "  layer_lines() %>%\n",
    "  set_options(height = 300, width = 400)"
   ]
  },
  {
   "cell_type": "markdown",
   "metadata": {},
   "source": [
    "### Gap Statistic"
   ]
  },
  {
   "cell_type": "code",
   "execution_count": 41,
   "metadata": {},
   "outputs": [
    {
     "data": {
      "image/png": "[encoded data removed]",
      "text/plain": [
       "Plot with title \"Gap Statitic\""
      ]
     },
     "metadata": {},
     "output_type": "display_data"
    }
   ],
   "source": [
    "#Calculating optimum Cluster in kmeans using Gap Statistic\n",
    "library(\"cluster\") #install.packages(\"cluster\")\n",
    "gsp <- clusGap(bcw_clust, FUN=kmeans, K.max = 6, B=100)\n",
    "plot(gsp, main=\"Gap Statitic\")"
   ]
  },
  {
   "cell_type": "markdown",
   "metadata": {},
   "source": [
    "### Hierarchical Clustering"
   ]
  },
  {
   "cell_type": "code",
   "execution_count": 46,
   "metadata": {},
   "outputs": [
    {
     "data": {
      "image/png": "[encoded data removed]",
      "text/plain": [
       "Plot with title \"Clustering Dendogram\""
      ]
     },
     "metadata": {},
     "output_type": "display_data"
    }
   ],
   "source": [
    "options(warn = -1)\n",
    "library(dendextend) #install.packages(\"dendextend\")\n",
    "hc<-hclust(dist(bcw_clust))\n",
    "dend <- as.dendrogram(hc)\n",
    "colors_used <- as.numeric(bcw[,10])\n",
    "colors_used <- colors_used[order.dendrogram(dend)]\n",
    "labels_colors(dend) <- colors_used\n",
    "labels(dend) <- paste(as.character(bcw[,10])[order.dendrogram(dend)],\n",
    "                      \"(\",labels(dend),\")\", \n",
    "                      sep = \"\")\n",
    "dend <- set(dend, \"labels_cex\", 0.5)\n",
    "par(mar = c(3,3,3,7))\n",
    "plot(dend, \n",
    "     main = \"Clustering Dendogram\", \n",
    "     horiz =  FALSE,  nodePar = list(cex = .007))\n",
    "legend(\"topleft\", legend = levels(bcw$Class), fill = c(\"red\",\"black\"))"
   ]
  },
  {
   "cell_type": "markdown",
   "metadata": {},
   "source": [
    "#### Cluster the dendogram into 2,3,4, and 5 clusters "
   ]
  },
  {
   "cell_type": "code",
   "execution_count": 47,
   "metadata": {},
   "outputs": [
    {
     "data": {
      "image/png": "[encoded data removed]",
      "text/plain": [
       "Plot with title \"Clustered k=2\""
      ]
     },
     "metadata": {},
     "output_type": "display_data"
    }
   ],
   "source": [
    "# k=2\n",
    "dend <- color_branches(dend, k=2)\n",
    "colors_used <- as.numeric(bcw[,10])\n",
    "colors_used <- colors_used[order.dendrogram(dend)]\n",
    "labels_colors(dend) <- colors_used\n",
    "labels(dend) <- paste(as.character(bcw[,10])[order.dendrogram(dend)],\n",
    "                      \"(\",labels(dend),\")\", \n",
    "                      sep = \"\")\n",
    "dend <- set(dend, \"labels_cex\", 0.5)\n",
    "par(mar = c(3,3,3,7))\n",
    "plot(dend, \n",
    "     main = \"Clustered k=2\", \n",
    "     horiz =  FALSE,  nodePar = list(cex = .007))\n",
    "legend(\"topleft\", legend = levels(bcw$Class), fill = c(\"red\",\"black\"))\n",
    "rect.hclust(hc,k=2)"
   ]
  },
  {
   "cell_type": "code",
   "execution_count": 48,
   "metadata": {},
   "outputs": [
    {
     "data": {
      "image/png": "[encoded data removed]",
      "text/plain": [
       "Plot with title \"Clustered k=3\""
      ]
     },
     "metadata": {},
     "output_type": "display_data"
    }
   ],
   "source": [
    "# k=3\n",
    "dend <- color_branches(dend, k=3)\n",
    "plot(dend, \n",
    "     main = \"Clustered k=3\", \n",
    "     horiz =  FALSE,  nodePar = list(cex = .007))\n",
    "legend(\"topleft\", legend = levels(bcw$Class), fill = c(\"red\",\"black\"))\n",
    "rect.hclust(hc,k=3)"
   ]
  },
  {
   "cell_type": "code",
   "execution_count": 49,
   "metadata": {},
   "outputs": [
    {
     "data": {
      "image/png": "[encoded data removed]",
      "text/plain": [
       "Plot with title \"Clustered k=4\""
      ]
     },
     "metadata": {},
     "output_type": "display_data"
    }
   ],
   "source": [
    "#k = 4\n",
    "dend <- color_branches(dend, k=4)\n",
    "plot(dend, \n",
    "     main = \"Clustered k=4\", \n",
    "     horiz =  FALSE,  nodePar = list(cex = .007))\n",
    "legend(\"topleft\", legend = levels(bcw$Class), fill = c(\"red\",\"black\"))\n",
    "rect.hclust(hc,k=4)"
   ]
  },
  {
   "cell_type": "code",
   "execution_count": 50,
   "metadata": {},
   "outputs": [
    {
     "data": {
      "image/png": "[encoded data removed]",
      "text/plain": [
       "Plot with title \"Clustered k=5\""
      ]
     },
     "metadata": {},
     "output_type": "display_data"
    }
   ],
   "source": [
    "#k=5\n",
    "dend <- color_branches(dend, k=5)\n",
    "plot(dend, \n",
    "     main = \"Clustered k=5\", \n",
    "     horiz =  FALSE,  nodePar = list(cex = .007))\n",
    "legend(\"topleft\", legend = levels(bcw$Class), fill = c(\"red\",\"black\"))\n",
    "rect.hclust(hc,k=5)"
   ]
  },
  {
   "cell_type": "markdown",
   "metadata": {},
   "source": [
    "When the dendogram is clustered using K=2 , it shows that big portion of class 2 is grouped in one cluster with class 4, while the other cluster’s elements are all class 2. When the K is changed to 3 and 4, that big portion of Class 2 is still grouped in one cluster with Class 4. And finally, when the dendogram is clustered using K=5 , those class 2s are grouped in 1 cluster. \n",
    "In this case, we can conclude, that using “Complete” method in Hierarchical Clustering, the distance of that big portion of class 2 is closer to Class 4 than to the rest of other Class 2. I think, this cluster can be classified as a new subtype of disease.\n"
   ]
  },
  {
   "cell_type": "markdown",
   "metadata": {},
   "source": [
    "### Hierarchical Clustering using \"single\" aglomeration method"
   ]
  },
  {
   "cell_type": "code",
   "execution_count": 51,
   "metadata": {},
   "outputs": [
    {
     "data": {
      "image/png": "[encoded data removed]",
      "text/plain": [
       "Plot with title \"Single Aglomeration Method\""
      ]
     },
     "metadata": {},
     "output_type": "display_data"
    }
   ],
   "source": [
    "hc_single<-hclust(dist(bcw_clust), method='single')\n",
    "\n",
    "dend<-as.dendrogram(hc_single)\n",
    "colors_used <- as.numeric(bcw[,10])\n",
    "colors_used <- colors_used[order.dendrogram(dend)]\n",
    "labels_colors(dend) <- colors_used\n",
    "labels(dend) <- paste(as.character(bcw[,10])[order.dendrogram(dend)],\n",
    "                      \"(\",labels(dend),\")\", \n",
    "                      sep = \"\")\n",
    "dend <- set(dend, \"labels_cex\", 0.5)\n",
    "par(mar = c(3,3,3,7))\n",
    "plot(dend, \n",
    "     main = \"Single Aglomeration Method\", \n",
    "     horiz =  FALSE,  nodePar = list(cex = .007))"
   ]
  },
  {
   "cell_type": "markdown",
   "metadata": {},
   "source": [
    "### Hierarchical Clustering using \"average\" aglomeration method"
   ]
  },
  {
   "cell_type": "code",
   "execution_count": 52,
   "metadata": {},
   "outputs": [
    {
     "data": {
      "image/png": "[encoded data removed]",
      "text/plain": [
       "Plot with title \"Average Aglomeration Method\""
      ]
     },
     "metadata": {},
     "output_type": "display_data"
    }
   ],
   "source": [
    "hc_average<-hclust(dist(bcw_clust), method='average')\n",
    "\n",
    "dend<-as.dendrogram(hc_average)\n",
    "colors_used <- as.numeric(bcw[,10])\n",
    "colors_used <- colors_used[order.dendrogram(dend)]\n",
    "labels_colors(dend) <- colors_used\n",
    "labels(dend) <- paste(as.character(bcw[,10])[order.dendrogram(dend)],\n",
    "                      \"(\",labels(dend),\")\", \n",
    "                      sep = \"\")\n",
    "dend <- set(dend, \"labels_cex\", 0.5)\n",
    "par(mar = c(3,3,3,7))\n",
    "plot(dend, \n",
    "     main = \"Average Aglomeration Method\", \n",
    "     horiz =  FALSE,  nodePar = list(cex = .007))\n",
    "legend(\"topleft\", legend = levels(bcw$Class), fill = c(\"red\",\"black\"))"
   ]
  },
  {
   "cell_type": "markdown",
   "metadata": {},
   "source": [
    "### Hierarchical Clustering using \"complete\" aglomeration method"
   ]
  },
  {
   "cell_type": "code",
   "execution_count": 53,
   "metadata": {},
   "outputs": [
    {
     "data": {
      "image/png": "[encoded data removed]",
      "text/plain": [
       "Plot with title \"Complete Aglomeration Method\""
      ]
     },
     "metadata": {},
     "output_type": "display_data"
    }
   ],
   "source": [
    "hc_complete<-hclust(dist(bcw_clust), method='complete')\n",
    "dend<-as.dendrogram(hc_complete)\n",
    "colors_used <- as.numeric(bcw[,10])\n",
    "colors_used <- colors_used[order.dendrogram(dend)]\n",
    "labels_colors(dend) <- colors_used\n",
    "labels(dend) <- paste(as.character(bcw[,10])[order.dendrogram(dend)],\n",
    "                      \"(\",labels(dend),\")\", \n",
    "                      sep = \"\")\n",
    "dend <- set(dend, \"labels_cex\", 0.5)\n",
    "par(mar = c(3,3,3,7))\n",
    "plot(dend, \n",
    "     main = \"Complete Aglomeration Method\", \n",
    "     horiz =  FALSE,  nodePar = list(cex = .007))\n",
    "legend(\"topleft\", legend = levels(bcw$Class), fill = c(\"red\",\"black\"))"
   ]
  },
  {
   "cell_type": "markdown",
   "metadata": {},
   "source": [
    "We can see the the dendograms of average and complete method are quite similar, but they are very different compared to dendogram of single method. Hence, we can tell that the data is sensitive to the used of agglomeration method."
   ]
  },
  {
   "cell_type": "code",
   "execution_count": null,
   "metadata": {},
   "outputs": [],
   "source": []
  }
 ],
 "metadata": {
  "kernelspec": {
   "display_name": "R",
   "language": "R",
   "name": "ir"
  },
  "language_info": {
   "codemirror_mode": "r",
   "file_extension": ".r",
   "mimetype": "text/x-r-source",
   "name": "R",
   "pygments_lexer": "r",
   "version": "3.6.1"
  }
 },
 "nbformat": 4,
 "nbformat_minor": 4
}
